{
 "cells": [
  {
   "cell_type": "code",
   "execution_count": 1,
   "id": "68246fa7",
   "metadata": {},
   "outputs": [],
   "source": [
    "import sklearn\n",
    "\n",
    "#NN Surrogate model class\n",
    "from injector_surrogate_quads import *\n",
    "\n",
    "from emittance_calc import getNormEmit\n",
    "\n",
    "sys.path.append('../configs')\n",
    "#Sim reference point to optimize around\n",
    "from ref_config import ref_point\n",
    "\n",
    "#BO\n",
    "from bayes_opt import BayesianOptimization"
   ]
  },
  {
   "cell_type": "markdown",
   "id": "5f4446ff",
   "metadata": {},
   "source": [
    "# Load injector model"
   ]
  },
  {
   "cell_type": "code",
   "execution_count": 2,
   "id": "8ffd05e1",
   "metadata": {},
   "outputs": [],
   "source": [
    "Model = Surrogate_NN()\n",
    "\n",
    "Model.load_saved_model(model_path = '../models/', \\\n",
    "                       model_name = 'model_OTR2_NA_rms_emit_elu_2021-07-19T09_46_52-07_00')\n",
    "Model.load_scaling()\n",
    "Model.take_log_out = False\n",
    "\n",
    "energy = 0.204 #GeV"
   ]
  },
  {
   "cell_type": "markdown",
   "id": "3f85f4e2",
   "metadata": {},
   "source": [
    "# Set up sampling and objectives"
   ]
  },
  {
   "cell_type": "code",
   "execution_count": 3,
   "id": "e238555d",
   "metadata": {},
   "outputs": [],
   "source": [
    "#convert to machine units\n",
    "ref_point = Model.sim_to_machine(np.asarray(ref_point))"
   ]
  },
  {
   "cell_type": "markdown",
   "id": "878ea3be",
   "metadata": {},
   "source": [
    "1- beam size request (from surrogate) [input =  setting, quad (n=1), output = beamsize] ----> uncouple from fn below \\\n",
    "2- emittance calc request [input = quad (n>=3), beamsize (n), output  = emittance] ----> fn from module\\\n",
    "3- ground truth request [input = setting, output = emittance] -----> already exists, need wrapper fn "
   ]
  },
  {
   "cell_type": "code",
   "execution_count": 5,
   "id": "54f7b25a",
   "metadata": {},
   "outputs": [],
   "source": [
    "#input params: solenoid and quads to vary \n",
    "opt_var_names = ['SOL1:solenoid_field_scale','SQ01:b1_gradient','CQ01:b1_gradient','QE04:b1_gradient']\n",
    "\n",
    "#output params: emittance in transverse plane (x & y)\n",
    "opt_out_names = ['norm_emit_x','norm_emit_y']\n",
    "\n",
    "def getBeamsize(varx,vary,varz,varscan): \n",
    "    \n",
    "    #make input array of length model_in_list (inputs model takes)\n",
    "    x_in = np.empty((1,len(Model.model_in_list)))\n",
    "\n",
    "    #fill in reference point around which to optimize\n",
    "    x_in[:,:] = np.asarray(ref_point[0])\n",
    "\n",
    "    #set solenoid, SQ, CQ to values from optimization step\n",
    "    x_in[:, Model.loc_in[opt_var_names[0]]] = varx\n",
    "    x_in[:, Model.loc_in[opt_var_names[1]]] = vary\n",
    "    x_in[:, Model.loc_in[opt_var_names[2]]] = varz\n",
    "    \n",
    "    #set quad 525 to values for scan\n",
    "    x_in[:, Model.loc_in[opt_var_names[3]]] = varscan\n",
    "\n",
    "    #output predictions\n",
    "    y_out = Model.pred_machine_units(x_in) \n",
    "    \n",
    "    x_rms = y_out[:,0]\n",
    "    y_rms = y_out[:,1]\n",
    "\n",
    "    return x_rms, y_rms\n",
    "\n",
    "   ####################\n",
    "\n",
    "    \n",
    "normemit = getNormEmit(energy, quad_grad, x_rms, y_rms) #normalized emittance\n",
    "# getNormEmit if can't calc emittance, assigns random high val (1000)\n",
    "\n",
    "def getGroundTruth(varx,vary,varz): \n",
    "    \n",
    "    #make input array of length model_in_list (inputs model takes)\n",
    "    x_in = np.empty((1,len(Model.model_in_list)))\n",
    "\n",
    "    #fill in reference point around which to optimize\n",
    "    x_in[:,:] = np.asarray(ref_point[0])\n",
    "\n",
    "    #set solenoid, SQ, CQ to values from optimization step\n",
    "    x_in[:, Model.loc_in[opt_var_names[0]]] = varx\n",
    "    x_in[:, Model.loc_in[opt_var_names[1]]] = vary\n",
    "    x_in[:, Model.loc_in[opt_var_names[2]]] = varz\n",
    "\n",
    "    #output predictions\n",
    "    y_out = Model.pred_machine_units(x_in) \n",
    "    \n",
    "    #output is geometric emittance in transverse plane\n",
    "    emitx = y_out[:,Model.loc_out['norm_emit_x']] #grab norm_emit_x out of the model\n",
    "    emity = y_out[:,Model.loc_out['norm_emit_y']] #grab norm_emit_y out of the model\n",
    "    \n",
    "    return np.sqrt(emitx*emity)"
   ]
  },
  {
   "cell_type": "markdown",
   "id": "ab6c0b6d",
   "metadata": {},
   "source": [
    "# Simple BO"
   ]
  },
  {
   "cell_type": "code",
   "execution_count": 8,
   "id": "e08ff77f",
   "metadata": {},
   "outputs": [
    {
     "name": "stdout",
     "output_type": "stream",
     "text": [
      "|   iter    |  target   |   varx    |   vary    |   varz    |\n",
      "-------------------------------------------------------------\n",
      "| \u001b[0m 1       \u001b[0m | \u001b[0m-6.656   \u001b[0m | \u001b[0m 0.4859  \u001b[0m | \u001b[0m 0.008813\u001b[0m | \u001b[0m-0.02    \u001b[0m |\n",
      "| \u001b[95m 2       \u001b[0m | \u001b[95m-5.68    \u001b[0m | \u001b[95m 0.4733  \u001b[0m | \u001b[95m-0.01413 \u001b[0m | \u001b[95m-0.01631 \u001b[0m |\n",
      "| \u001b[0m 3       \u001b[0m | \u001b[0m-13.23   \u001b[0m | \u001b[0m 0.4605  \u001b[0m | \u001b[0m-0.006178\u001b[0m | \u001b[0m-0.004129\u001b[0m |\n",
      "| \u001b[0m 4       \u001b[0m | \u001b[0m-7.805   \u001b[0m | \u001b[0m 0.4993  \u001b[0m | \u001b[0m-0.003232\u001b[0m | \u001b[0m 0.007409\u001b[0m |\n",
      "| \u001b[0m 5       \u001b[0m | \u001b[0m-16.73   \u001b[0m | \u001b[0m 0.4625  \u001b[0m | \u001b[0m 0.01512 \u001b[0m | \u001b[0m-0.0189  \u001b[0m |\n",
      "| \u001b[95m 6       \u001b[0m | \u001b[95m-4.989   \u001b[0m | \u001b[95m 0.4813  \u001b[0m | \u001b[95m 0.0116  \u001b[0m | \u001b[95m 0.01098 \u001b[0m |\n",
      "| \u001b[0m 7       \u001b[0m | \u001b[0m-16.46   \u001b[0m | \u001b[0m 0.4986  \u001b[0m | \u001b[0m 0.0115  \u001b[0m | \u001b[0m-0.013   \u001b[0m |\n",
      "| \u001b[0m 8       \u001b[0m | \u001b[0m-5.931   \u001b[0m | \u001b[0m 0.5055  \u001b[0m | \u001b[0m-0.009559\u001b[0m | \u001b[0m 0.009869\u001b[0m |\n",
      "| \u001b[0m 9       \u001b[0m | \u001b[0m-9.944   \u001b[0m | \u001b[0m 0.465   \u001b[0m | \u001b[0m-0.01378 \u001b[0m | \u001b[0m 0.01789 \u001b[0m |\n",
      "| \u001b[0m 10      \u001b[0m | \u001b[0m-5.85    \u001b[0m | \u001b[0m 0.4732  \u001b[0m | \u001b[0m-0.0146  \u001b[0m | \u001b[0m-0.01722 \u001b[0m |\n",
      "| \u001b[0m 11      \u001b[0m | \u001b[0m-7.375   \u001b[0m | \u001b[0m 0.4917  \u001b[0m | \u001b[0m-0.00306 \u001b[0m | \u001b[0m-0.001123\u001b[0m |\n",
      "| \u001b[95m 12      \u001b[0m | \u001b[95m-4.571   \u001b[0m | \u001b[95m 0.4823  \u001b[0m | \u001b[95m-0.005622\u001b[0m | \u001b[95m-0.01817 \u001b[0m |\n",
      "| \u001b[0m 13      \u001b[0m | \u001b[0m-7.577   \u001b[0m | \u001b[0m 0.4995  \u001b[0m | \u001b[0m-0.003835\u001b[0m | \u001b[0m 0.007813\u001b[0m |\n",
      "| \u001b[0m 14      \u001b[0m | \u001b[0m-5.944   \u001b[0m | \u001b[0m 0.5055  \u001b[0m | \u001b[0m-0.01029 \u001b[0m | \u001b[0m 0.009299\u001b[0m |\n",
      "| \u001b[0m 15      \u001b[0m | \u001b[0m-7.626   \u001b[0m | \u001b[0m 0.4988  \u001b[0m | \u001b[0m-0.00306 \u001b[0m | \u001b[0m 0.007506\u001b[0m |\n",
      "| \u001b[0m 16      \u001b[0m | \u001b[0m-5.377   \u001b[0m | \u001b[0m 0.4873  \u001b[0m | \u001b[0m-0.000836\u001b[0m | \u001b[0m 0.01997 \u001b[0m |\n",
      "| \u001b[95m 17      \u001b[0m | \u001b[95m-1.3     \u001b[0m | \u001b[95m 0.4978  \u001b[0m | \u001b[95m-0.02    \u001b[0m | \u001b[95m 0.02    \u001b[0m |\n",
      "| \u001b[0m 18      \u001b[0m | \u001b[0m-1.541e+0\u001b[0m | \u001b[0m 0.5129  \u001b[0m | \u001b[0m-0.02    \u001b[0m | \u001b[0m 0.02    \u001b[0m |\n",
      "| \u001b[0m 19      \u001b[0m | \u001b[0m-9.345   \u001b[0m | \u001b[0m 0.5433  \u001b[0m | \u001b[0m 0.018   \u001b[0m | \u001b[0m-0.008835\u001b[0m |\n",
      "| \u001b[0m 20      \u001b[0m | \u001b[0m-3.752   \u001b[0m | \u001b[0m 0.4847  \u001b[0m | \u001b[0m-0.01987 \u001b[0m | \u001b[0m 0.01489 \u001b[0m |\n",
      "| \u001b[0m 21      \u001b[0m | \u001b[0m-20.09   \u001b[0m | \u001b[0m 0.5089  \u001b[0m | \u001b[0m-0.008309\u001b[0m | \u001b[0m-0.01617 \u001b[0m |\n",
      "| \u001b[0m 22      \u001b[0m | \u001b[0m-19.56   \u001b[0m | \u001b[0m 0.5205  \u001b[0m | \u001b[0m 0.009107\u001b[0m | \u001b[0m-0.005369\u001b[0m |\n",
      "| \u001b[0m 23      \u001b[0m | \u001b[0m-19.31   \u001b[0m | \u001b[0m 0.5035  \u001b[0m | \u001b[0m 0.02    \u001b[0m | \u001b[0m 0.008524\u001b[0m |\n",
      "| \u001b[0m 24      \u001b[0m | \u001b[0m-20.18   \u001b[0m | \u001b[0m 0.4588  \u001b[0m | \u001b[0m 0.01474 \u001b[0m | \u001b[0m 0.004675\u001b[0m |\n",
      "| \u001b[0m 25      \u001b[0m | \u001b[0m-28.6    \u001b[0m | \u001b[0m 0.4458  \u001b[0m | \u001b[0m-0.001907\u001b[0m | \u001b[0m 0.01403 \u001b[0m |\n",
      "| \u001b[0m 26      \u001b[0m | \u001b[0m-9.405   \u001b[0m | \u001b[0m 0.5433  \u001b[0m | \u001b[0m 0.01808 \u001b[0m | \u001b[0m-0.008632\u001b[0m |\n",
      "| \u001b[0m 27      \u001b[0m | \u001b[0m-9.147   \u001b[0m | \u001b[0m 0.4653  \u001b[0m | \u001b[0m-0.01741 \u001b[0m | \u001b[0m 0.008154\u001b[0m |\n",
      "| \u001b[0m 28      \u001b[0m | \u001b[0m-27.45   \u001b[0m | \u001b[0m 0.4405  \u001b[0m | \u001b[0m 0.007435\u001b[0m | \u001b[0m-0.009051\u001b[0m |\n",
      "| \u001b[0m 29      \u001b[0m | \u001b[0m-23.5    \u001b[0m | \u001b[0m 0.44    \u001b[0m | \u001b[0m-0.01785 \u001b[0m | \u001b[0m-0.002731\u001b[0m |\n",
      "| \u001b[0m 30      \u001b[0m | \u001b[0m-2.194e+0\u001b[0m | \u001b[0m 0.5323  \u001b[0m | \u001b[0m-0.00326 \u001b[0m | \u001b[0m-0.008156\u001b[0m |\n",
      "| \u001b[0m 31      \u001b[0m | \u001b[0m-23.89   \u001b[0m | \u001b[0m 0.5159  \u001b[0m | \u001b[0m 0.02    \u001b[0m | \u001b[0m-0.01301 \u001b[0m |\n",
      "| \u001b[0m 32      \u001b[0m | \u001b[0m-19.34   \u001b[0m | \u001b[0m 0.5227  \u001b[0m | \u001b[0m 0.0199  \u001b[0m | \u001b[0m 0.01373 \u001b[0m |\n",
      "| \u001b[0m 33      \u001b[0m | \u001b[0m-27.61   \u001b[0m | \u001b[0m 0.44    \u001b[0m | \u001b[0m 0.02    \u001b[0m | \u001b[0m 0.02    \u001b[0m |\n",
      "| \u001b[0m 34      \u001b[0m | \u001b[0m-8.367   \u001b[0m | \u001b[0m 0.4502  \u001b[0m | \u001b[0m-0.02    \u001b[0m | \u001b[0m-0.02    \u001b[0m |\n",
      "| \u001b[0m 35      \u001b[0m | \u001b[0m-12.6    \u001b[0m | \u001b[0m 0.4947  \u001b[0m | \u001b[0m-0.01975 \u001b[0m | \u001b[0m-0.01364 \u001b[0m |\n",
      "| \u001b[0m 36      \u001b[0m | \u001b[0m-15.05   \u001b[0m | \u001b[0m 0.464   \u001b[0m | \u001b[0m 0.009655\u001b[0m | \u001b[0m 0.001415\u001b[0m |\n",
      "| \u001b[0m 37      \u001b[0m | \u001b[0m-15.14   \u001b[0m | \u001b[0m 0.4514  \u001b[0m | \u001b[0m-0.01771 \u001b[0m | \u001b[0m-0.005214\u001b[0m |\n",
      "| \u001b[0m 38      \u001b[0m | \u001b[0m-28.47   \u001b[0m | \u001b[0m 0.4415  \u001b[0m | \u001b[0m-0.0185  \u001b[0m | \u001b[0m 0.01842 \u001b[0m |\n",
      "| \u001b[0m 39      \u001b[0m | \u001b[0m-3.115   \u001b[0m | \u001b[0m 0.55    \u001b[0m | \u001b[0m 0.02    \u001b[0m | \u001b[0m 0.02    \u001b[0m |\n",
      "| \u001b[0m 40      \u001b[0m | \u001b[0m-12.84   \u001b[0m | \u001b[0m 0.4661  \u001b[0m | \u001b[0m 0.02    \u001b[0m | \u001b[0m 0.02    \u001b[0m |\n",
      "| \u001b[0m 41      \u001b[0m | \u001b[0m-29.01   \u001b[0m | \u001b[0m 0.44    \u001b[0m | \u001b[0m 0.02    \u001b[0m | \u001b[0m-0.02    \u001b[0m |\n",
      "| \u001b[0m 42      \u001b[0m | \u001b[0m-6.518   \u001b[0m | \u001b[0m 0.4795  \u001b[0m | \u001b[0m 0.02    \u001b[0m | \u001b[0m-0.006329\u001b[0m |\n",
      "| \u001b[0m 43      \u001b[0m | \u001b[0m-10.14   \u001b[0m | \u001b[0m 0.5317  \u001b[0m | \u001b[0m-0.01504 \u001b[0m | \u001b[0m-0.01855 \u001b[0m |\n",
      "| \u001b[0m 44      \u001b[0m | \u001b[0m-18.9    \u001b[0m | \u001b[0m 0.4528  \u001b[0m | \u001b[0m 0.000516\u001b[0m | \u001b[0m-0.01925 \u001b[0m |\n",
      "| \u001b[0m 45      \u001b[0m | \u001b[0m-12.36   \u001b[0m | \u001b[0m 0.468   \u001b[0m | \u001b[0m 0.01382 \u001b[0m | \u001b[0m-0.01477 \u001b[0m |\n",
      "=============================================================\n"
     ]
    }
   ],
   "source": [
    "# bounds on input params \n",
    "pbounds = {'varx': (0.44, 0.55),\n",
    "           'vary': (-0.02, 0.02),\n",
    "           'varz': (-0.02, 0.02),\n",
    "           #'varscan': (-7, 0), # how to pick set of quads when scanning?\n",
    "          }\n",
    "\n",
    "optimizer = BayesianOptimization(\n",
    "    f = evaluate,\n",
    "    pbounds = pbounds,\n",
    "    random_state = 1,\n",
    ")\n",
    "\n",
    "optimizer.maximize(\n",
    "    init_points=5,\n",
    "    n_iter=40,\n",
    ")"
   ]
  },
  {
   "cell_type": "markdown",
   "id": "0fefaf55",
   "metadata": {},
   "source": [
    "## Results from simple BO"
   ]
  },
  {
   "cell_type": "code",
   "execution_count": 6,
   "id": "1574eea8",
   "metadata": {},
   "outputs": [
    {
     "name": "stdout",
     "output_type": "stream",
     "text": [
      "optimum (pv_units)  0.4783371750558134 -0.02 0.02\n",
      "optimum geom emit  0.8672671914100647\n"
     ]
    }
   ],
   "source": [
    "SOL_opt = optimizer.max['params']['varx'] # solenoid val at optimum\n",
    "CQ_opt = optimizer.max['params']['vary'] # CQ val at optimum\n",
    "SQ_opt = optimizer.max['params']['varz'] # SQ val at optimum\n",
    "\n",
    "opt_emit = -1*optimizer.max['target'] # emittance value at optimum (in um)\n",
    "\n",
    "print('optimum (pv_units) ',SOL_opt, CQ_opt, SQ_opt)\n",
    "print('optimum geom emit ', opt_emit)"
   ]
  }
 ],
 "metadata": {
  "kernelspec": {
   "display_name": "Python 3",
   "language": "python",
   "name": "python3"
  },
  "language_info": {
   "codemirror_mode": {
    "name": "ipython",
    "version": 3
   },
   "file_extension": ".py",
   "mimetype": "text/x-python",
   "name": "python",
   "nbconvert_exporter": "python",
   "pygments_lexer": "ipython3",
   "version": "3.7.10"
  }
 },
 "nbformat": 4,
 "nbformat_minor": 5
}
