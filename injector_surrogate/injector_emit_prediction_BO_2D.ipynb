{
 "cells": [
  {
   "cell_type": "code",
   "execution_count": 1,
   "id": "68246fa7",
   "metadata": {},
   "outputs": [],
   "source": [
    "import sklearn\n",
    "\n",
    "#NN Surrogate model class\n",
    "from injector_surrogate_quads import *\n",
    "\n",
    "sys.path.append('../configs')\n",
    "#Sim reference point to optimize around\n",
    "from ref_config import ref_point\n",
    "\n",
    "#BO\n",
    "from bayes_opt import BayesianOptimization"
   ]
  },
  {
   "cell_type": "markdown",
   "id": "5f4446ff",
   "metadata": {},
   "source": [
    "# Load injector model"
   ]
  },
  {
   "cell_type": "code",
   "execution_count": 2,
   "id": "8ffd05e1",
   "metadata": {},
   "outputs": [],
   "source": [
    "Model = Surrogate_NN()\n",
    "\n",
    "Model.load_saved_model(model_path = '../models/', \\\n",
    "                       model_name = 'model_OTR2_NA_rms_emit_elu_2021-07-27T19_54_57-07_00')\n",
    "Model.load_scaling()\n",
    "Model.take_log_out = False"
   ]
  },
  {
   "cell_type": "markdown",
   "id": "3f85f4e2",
   "metadata": {},
   "source": [
    "# Set up sampling and objectives"
   ]
  },
  {
   "cell_type": "code",
   "execution_count": 9,
   "id": "54f7b25a",
   "metadata": {},
   "outputs": [],
   "source": [
    "#convert to machine units\n",
    "ref_point = Model.sim_to_machine(np.asarray(ref_point))\n",
    "\n",
    "#input params: solenoid and quads to vary \n",
    "opt_var_names = ['SOL1:solenoid_field_scale', 'SQ01:b1_gradient','CQ01:b1_gradient'] #\n",
    "\n",
    "#output params: emittance in transverse plane (x & y)\n",
    "opt_out_names = ['norm_emit_x','norm_emit_y']\n",
    "\n",
    "def evaluate(varx,vary,varz): \n",
    "\n",
    "    #make input array of length model_in_list (inputs model takes)\n",
    "    x_in = np.empty((1,len(Model.model_in_list)))\n",
    "\n",
    "    #fill in reference point around which to optimize\n",
    "    x_in[:,:] = np.asarray(ref_point[0])\n",
    "\n",
    "    #set solenoid, SQ, CQ to values from optimization step\n",
    "    x_in[:, Model.loc_in[opt_var_names[0]]] = varx\n",
    "    x_in[:, Model.loc_in[opt_var_names[1]]] = vary\n",
    "    x_in[:, Model.loc_in[opt_var_names[2]]] = varz\n",
    "\n",
    "    #output predictions\n",
    "    y_out = Model.pred_machine_units(x_in) \n",
    "\n",
    "    return -1*objective(y_out)[0]\n",
    "\n",
    "\n",
    "def objective(y_out):\n",
    "    \n",
    "    #output is geometric emittance in transverse plane\n",
    "    out1 = y_out[:,Model.loc_out['norm_emit_x']] #grab norm_emit_x out of the model\n",
    "    out2 = y_out[:,Model.loc_out['norm_emit_y']] #grab norm_emit_y out of the model\n",
    "       \n",
    "    return np.sqrt(out1*out2)/1e-6 # in um units"
   ]
  },
  {
   "cell_type": "markdown",
   "id": "ab6c0b6d",
   "metadata": {},
   "source": [
    "# Simple BO"
   ]
  },
  {
   "cell_type": "code",
   "execution_count": 10,
   "id": "e08ff77f",
   "metadata": {},
   "outputs": [
    {
     "name": "stdout",
     "output_type": "stream",
     "text": [
      "|   iter    |  target   |   varx    |   vary    |   varz    |\n",
      "-------------------------------------------------------------\n",
      "| \u001b[0m 1       \u001b[0m | \u001b[0m-1.284e+0\u001b[0m | \u001b[0m 0.4859  \u001b[0m | \u001b[0m 0.008813\u001b[0m | \u001b[0m-0.02    \u001b[0m |\n",
      "| \u001b[95m 2       \u001b[0m | \u001b[95m-1.284e+0\u001b[0m | \u001b[95m 0.4733  \u001b[0m | \u001b[95m-0.01413 \u001b[0m | \u001b[95m-0.01631 \u001b[0m |\n",
      "| \u001b[0m 3       \u001b[0m | \u001b[0m-1.284e+0\u001b[0m | \u001b[0m 0.4605  \u001b[0m | \u001b[0m-0.006178\u001b[0m | \u001b[0m-0.004129\u001b[0m |\n",
      "| \u001b[0m 4       \u001b[0m | \u001b[0m-1.284e+0\u001b[0m | \u001b[0m 0.4993  \u001b[0m | \u001b[0m-0.003232\u001b[0m | \u001b[0m 0.007409\u001b[0m |\n",
      "| \u001b[0m 5       \u001b[0m | \u001b[0m-1.284e+0\u001b[0m | \u001b[0m 0.4625  \u001b[0m | \u001b[0m 0.01512 \u001b[0m | \u001b[0m-0.0189  \u001b[0m |\n",
      "| \u001b[0m 6       \u001b[0m | \u001b[0m-1.284e+0\u001b[0m | \u001b[0m 0.4813  \u001b[0m | \u001b[0m 0.0116  \u001b[0m | \u001b[0m 0.01098 \u001b[0m |\n",
      "| \u001b[0m 7       \u001b[0m | \u001b[0m-1.284e+0\u001b[0m | \u001b[0m 0.4986  \u001b[0m | \u001b[0m 0.0115  \u001b[0m | \u001b[0m-0.013   \u001b[0m |\n",
      "| \u001b[0m 8       \u001b[0m | \u001b[0m-1.284e+0\u001b[0m | \u001b[0m 0.5055  \u001b[0m | \u001b[0m-0.009559\u001b[0m | \u001b[0m 0.009869\u001b[0m |\n",
      "| \u001b[0m 9       \u001b[0m | \u001b[0m-1.284e+0\u001b[0m | \u001b[0m 0.465   \u001b[0m | \u001b[0m-0.01378 \u001b[0m | \u001b[0m 0.01789 \u001b[0m |\n",
      "| \u001b[0m 10      \u001b[0m | \u001b[0m-1.284e+0\u001b[0m | \u001b[0m 0.4732  \u001b[0m | \u001b[0m-0.0146  \u001b[0m | \u001b[0m-0.01722 \u001b[0m |\n",
      "| \u001b[0m 11      \u001b[0m | \u001b[0m-1.284e+0\u001b[0m | \u001b[0m 0.4917  \u001b[0m | \u001b[0m-0.00306 \u001b[0m | \u001b[0m-0.001123\u001b[0m |\n",
      "| \u001b[0m 12      \u001b[0m | \u001b[0m-1.284e+0\u001b[0m | \u001b[0m 0.5214  \u001b[0m | \u001b[0m 0.000749\u001b[0m | \u001b[0m 0.0198  \u001b[0m |\n",
      "| \u001b[0m 13      \u001b[0m | \u001b[0m-1.284e+0\u001b[0m | \u001b[0m 0.4995  \u001b[0m | \u001b[0m-0.003835\u001b[0m | \u001b[0m 0.007813\u001b[0m |\n",
      "| \u001b[0m 14      \u001b[0m | \u001b[0m-1.284e+0\u001b[0m | \u001b[0m 0.4755  \u001b[0m | \u001b[0m 0.01054 \u001b[0m | \u001b[0m 0.01428 \u001b[0m |\n",
      "| \u001b[0m 15      \u001b[0m | \u001b[0m-1.284e+0\u001b[0m | \u001b[0m 0.4988  \u001b[0m | \u001b[0m-0.00306 \u001b[0m | \u001b[0m 0.007506\u001b[0m |\n",
      "| \u001b[0m 16      \u001b[0m | \u001b[0m-1.284e+0\u001b[0m | \u001b[0m 0.4752  \u001b[0m | \u001b[0m-0.005451\u001b[0m | \u001b[0m-0.02    \u001b[0m |\n",
      "| \u001b[0m 17      \u001b[0m | \u001b[0m-1.284e+0\u001b[0m | \u001b[0m 0.4758  \u001b[0m | \u001b[0m-0.01938 \u001b[0m | \u001b[0m-0.012   \u001b[0m |\n",
      "| \u001b[0m 18      \u001b[0m | \u001b[0m-1.284e+0\u001b[0m | \u001b[0m 0.4674  \u001b[0m | \u001b[0m-0.01986 \u001b[0m | \u001b[0m-0.01661 \u001b[0m |\n",
      "| \u001b[0m 19      \u001b[0m | \u001b[0m-1.284e+0\u001b[0m | \u001b[0m 0.5433  \u001b[0m | \u001b[0m 0.018   \u001b[0m | \u001b[0m-0.008835\u001b[0m |\n",
      "| \u001b[0m 20      \u001b[0m | \u001b[0m-1.284e+0\u001b[0m | \u001b[0m 0.4797  \u001b[0m | \u001b[0m-0.01537 \u001b[0m | \u001b[0m-0.01557 \u001b[0m |\n",
      "| \u001b[0m 21      \u001b[0m | \u001b[0m-1.284e+0\u001b[0m | \u001b[0m 0.4728  \u001b[0m | \u001b[0m-0.01694 \u001b[0m | \u001b[0m-0.009296\u001b[0m |\n",
      "| \u001b[0m 22      \u001b[0m | \u001b[0m-1.284e+0\u001b[0m | \u001b[0m 0.4418  \u001b[0m | \u001b[0m-0.009666\u001b[0m | \u001b[0m 0.01202 \u001b[0m |\n",
      "| \u001b[0m 23      \u001b[0m | \u001b[0m-1.284e+0\u001b[0m | \u001b[0m 0.4748  \u001b[0m | \u001b[0m-0.01928 \u001b[0m | \u001b[0m-0.01503 \u001b[0m |\n",
      "| \u001b[0m 24      \u001b[0m | \u001b[0m-1.284e+0\u001b[0m | \u001b[0m 0.4681  \u001b[0m | \u001b[0m-0.01154 \u001b[0m | \u001b[0m-0.01823 \u001b[0m |\n",
      "| \u001b[0m 25      \u001b[0m | \u001b[0m-1.284e+0\u001b[0m | \u001b[0m 0.4678  \u001b[0m | \u001b[0m 0.0141  \u001b[0m | \u001b[0m-0.01584 \u001b[0m |\n",
      "| \u001b[0m 26      \u001b[0m | \u001b[0m-1.284e+0\u001b[0m | \u001b[0m 0.5433  \u001b[0m | \u001b[0m 0.01808 \u001b[0m | \u001b[0m-0.008632\u001b[0m |\n",
      "| \u001b[0m 27      \u001b[0m | \u001b[0m-1.284e+0\u001b[0m | \u001b[0m 0.4653  \u001b[0m | \u001b[0m-0.01741 \u001b[0m | \u001b[0m 0.008154\u001b[0m |\n",
      "| \u001b[0m 28      \u001b[0m | \u001b[0m-1.284e+0\u001b[0m | \u001b[0m 0.4572  \u001b[0m | \u001b[0m 0.01208 \u001b[0m | \u001b[0m-0.01966 \u001b[0m |\n",
      "| \u001b[0m 29      \u001b[0m | \u001b[0m-1.284e+0\u001b[0m | \u001b[0m 0.4553  \u001b[0m | \u001b[0m 0.01783 \u001b[0m | \u001b[0m-0.01999 \u001b[0m |\n",
      "| \u001b[0m 30      \u001b[0m | \u001b[0m-1.284e+0\u001b[0m | \u001b[0m 0.5323  \u001b[0m | \u001b[0m-0.00326 \u001b[0m | \u001b[0m-0.008156\u001b[0m |\n",
      "| \u001b[0m 31      \u001b[0m | \u001b[0m-1.284e+0\u001b[0m | \u001b[0m 0.5334  \u001b[0m | \u001b[0m 0.000603\u001b[0m | \u001b[0m-0.01017 \u001b[0m |\n",
      "| \u001b[0m 32      \u001b[0m | \u001b[0m-1.284e+0\u001b[0m | \u001b[0m 0.5328  \u001b[0m | \u001b[0m-0.007638\u001b[0m | \u001b[0m-0.007944\u001b[0m |\n",
      "| \u001b[0m 33      \u001b[0m | \u001b[0m-1.284e+0\u001b[0m | \u001b[0m 0.5291  \u001b[0m | \u001b[0m-0.00231 \u001b[0m | \u001b[0m-0.006199\u001b[0m |\n",
      "| \u001b[0m 34      \u001b[0m | \u001b[0m-1.284e+0\u001b[0m | \u001b[0m 0.5322  \u001b[0m | \u001b[0m-0.001611\u001b[0m | \u001b[0m-0.004133\u001b[0m |\n",
      "| \u001b[0m 35      \u001b[0m | \u001b[0m-1.284e+0\u001b[0m | \u001b[0m 0.528   \u001b[0m | \u001b[0m 0.000440\u001b[0m | \u001b[0m-0.001089\u001b[0m |\n",
      "| \u001b[0m 36      \u001b[0m | \u001b[0m-1.284e+0\u001b[0m | \u001b[0m 0.464   \u001b[0m | \u001b[0m 0.009655\u001b[0m | \u001b[0m 0.001415\u001b[0m |\n",
      "| \u001b[0m 37      \u001b[0m | \u001b[0m-1.284e+0\u001b[0m | \u001b[0m 0.4514  \u001b[0m | \u001b[0m-0.01771 \u001b[0m | \u001b[0m-0.005214\u001b[0m |\n",
      "| \u001b[0m 38      \u001b[0m | \u001b[0m-1.284e+0\u001b[0m | \u001b[0m 0.5363  \u001b[0m | \u001b[0m-0.003344\u001b[0m | \u001b[0m-0.003352\u001b[0m |\n",
      "| \u001b[0m 39      \u001b[0m | \u001b[0m-1.284e+0\u001b[0m | \u001b[0m 0.5262  \u001b[0m | \u001b[0m-0.004248\u001b[0m | \u001b[0m-0.01165 \u001b[0m |\n",
      "| \u001b[0m 40      \u001b[0m | \u001b[0m-1.284e+0\u001b[0m | \u001b[0m 0.5295  \u001b[0m | \u001b[0m-0.004935\u001b[0m | \u001b[0m-0.003996\u001b[0m |\n",
      "| \u001b[0m 41      \u001b[0m | \u001b[0m-1.284e+0\u001b[0m | \u001b[0m 0.4618  \u001b[0m | \u001b[0m-0.005851\u001b[0m | \u001b[0m 0.0152  \u001b[0m |\n",
      "| \u001b[0m 42      \u001b[0m | \u001b[0m-1.284e+0\u001b[0m | \u001b[0m 0.4611  \u001b[0m | \u001b[0m 0.008422\u001b[0m | \u001b[0m-0.0182  \u001b[0m |\n",
      "| \u001b[0m 43      \u001b[0m | \u001b[0m-1.284e+0\u001b[0m | \u001b[0m 0.5317  \u001b[0m | \u001b[0m-0.01504 \u001b[0m | \u001b[0m-0.01855 \u001b[0m |\n",
      "| \u001b[0m 44      \u001b[0m | \u001b[0m-1.284e+0\u001b[0m | \u001b[0m 0.5281  \u001b[0m | \u001b[0m-0.008691\u001b[0m | \u001b[0m 0.000411\u001b[0m |\n",
      "| \u001b[0m 45      \u001b[0m | \u001b[0m-1.284e+0\u001b[0m | \u001b[0m 0.468   \u001b[0m | \u001b[0m 0.01382 \u001b[0m | \u001b[0m-0.01477 \u001b[0m |\n",
      "=============================================================\n"
     ]
    }
   ],
   "source": [
    "# bounds on input params \n",
    "pbounds = {'varx': (0.44, 0.55),\n",
    "           'vary': (-0.02, 0.02),\n",
    "           'varz': (-0.02, 0.02)\n",
    "          }\n",
    "\n",
    "optimizer = BayesianOptimization(\n",
    "    f = evaluate,\n",
    "    pbounds = pbounds,\n",
    "    random_state = 1,\n",
    ")\n",
    "\n",
    "optimizer.maximize(\n",
    "    init_points=5,\n",
    "    n_iter=40,\n",
    ")"
   ]
  },
  {
   "cell_type": "markdown",
   "id": "0fefaf55",
   "metadata": {},
   "source": [
    "## Results from simple BO"
   ]
  },
  {
   "cell_type": "code",
   "execution_count": 7,
   "id": "1574eea8",
   "metadata": {},
   "outputs": [
    {
     "name": "stdout",
     "output_type": "stream",
     "text": [
      "optimum (pv_units)  0.47737014691426854 -0.0004981337721706551 0.0004994750148957644\n",
      "optimum geom emit  0.5750189423561096\n"
     ]
    }
   ],
   "source": [
    "SOL_opt = optimizer.max['params']['varx'] # solenoid val at optimum\n",
    "CQ_opt = optimizer.max['params']['vary'] # CQ val at optimum\n",
    "SQ_opt = optimizer.max['params']['varz'] # SQ val at optimum\n",
    "\n",
    "opt_emit = -1*optimizer.max['target'] # emittance value at optimum (in um)\n",
    "\n",
    "print('optimum (pv_units) ',SOL_opt, CQ_opt, SQ_opt)\n",
    "print('optimum geom emit ', opt_emit)"
   ]
  }
 ],
 "metadata": {
  "kernelspec": {
   "display_name": "Python 3",
   "language": "python",
   "name": "python3"
  },
  "language_info": {
   "codemirror_mode": {
    "name": "ipython",
    "version": 3
   },
   "file_extension": ".py",
   "mimetype": "text/x-python",
   "name": "python",
   "nbconvert_exporter": "python",
   "pygments_lexer": "ipython3",
   "version": "3.7.11"
  }
 },
 "nbformat": 4,
 "nbformat_minor": 5
}
