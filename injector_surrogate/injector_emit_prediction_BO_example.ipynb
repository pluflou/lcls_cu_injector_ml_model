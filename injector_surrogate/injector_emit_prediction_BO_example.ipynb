{
 "cells": [
  {
   "cell_type": "code",
   "execution_count": 1,
   "id": "68246fa7",
   "metadata": {},
   "outputs": [],
   "source": [
    "import sklearn\n",
    "\n",
    "#NN Surrogate model class\n",
    "from injector_surrogate_quads import *\n",
    "\n",
    "sys.path.append('../configs')\n",
    "#Sim reference point to optimize around\n",
    "from ref_config import ref_point\n",
    "\n",
    "#BO\n",
    "from bayes_opt import BayesianOptimization"
   ]
  },
  {
   "cell_type": "markdown",
   "id": "5f4446ff",
   "metadata": {},
   "source": [
    "# Load injector model"
   ]
  },
  {
   "cell_type": "code",
   "execution_count": 2,
   "id": "8ffd05e1",
   "metadata": {},
   "outputs": [],
   "source": [
    "Model = Surrogate_NN()\n",
    "\n",
    "Model.load_saved_model(model_path = '../models/', \\\n",
    "                       model_name = 'model_OTR2_NA_rms_emit_elu_2021-07-19T09_46_52-07_00')\n",
    "Model.load_scaling()\n",
    "Model.take_log_out = False"
   ]
  },
  {
   "cell_type": "markdown",
   "id": "3f85f4e2",
   "metadata": {},
   "source": [
    "# Set up sampling and objectives"
   ]
  },
  {
   "cell_type": "code",
   "execution_count": 3,
   "id": "54f7b25a",
   "metadata": {},
   "outputs": [],
   "source": [
    "#convert to machine units\n",
    "ref_point = Model.sim_to_machine(np.asarray(ref_point))\n",
    "\n",
    "#input params: solenoid and quads to vary \n",
    "opt_var_names = ['SOL1:solenoid_field_scale','SQ01:b1_gradient','CQ01:b1_gradient']\n",
    "\n",
    "#output params: emittance in transverse plane (x & y)\n",
    "opt_out_names = ['norm_emit_x','norm_emit_y']\n",
    "\n",
    "def evaluate(varx,vary,varz): \n",
    "\n",
    "    #make input array of length model_in_list (inputs model takes)\n",
    "    x_in = np.empty((1,len(Model.model_in_list)))\n",
    "\n",
    "    #fill in reference point around which to optimize\n",
    "    x_in[:,:] = np.asarray(ref_point[0])\n",
    "\n",
    "    #set solenoid, SQ, CQ to values from optimization step\n",
    "    x_in[:, Model.loc_in[opt_var_names[0]]] = varx\n",
    "    x_in[:, Model.loc_in[opt_var_names[1]]] = vary\n",
    "    x_in[:, Model.loc_in[opt_var_names[2]]] = varz\n",
    "\n",
    "    #output predictions\n",
    "    y_out = Model.pred_machine_units(x_in) \n",
    "\n",
    "    return -1*objective(y_out)[0]\n",
    "\n",
    "\n",
    "def objective(y_out):\n",
    "    \n",
    "    #output is geometric emittance in transverse plane\n",
    "    out1 = y_out[:,Model.loc_out['norm_emit_x']] #grab norm_emit_x out of the model\n",
    "    out2 = y_out[:,Model.loc_out['norm_emit_y']] #grab norm_emit_y out of the model\n",
    "    \n",
    "    return np.sqrt(out1*out2)/1e-6 # in um units"
   ]
  },
  {
   "cell_type": "markdown",
   "id": "ab6c0b6d",
   "metadata": {},
   "source": [
    "# Simple BO"
   ]
  },
  {
   "cell_type": "code",
   "execution_count": 5,
   "id": "e08ff77f",
   "metadata": {},
   "outputs": [
    {
     "name": "stdout",
     "output_type": "stream",
     "text": [
      "|   iter    |  target   |   varx    |   vary    |   varz    |\n",
      "-------------------------------------------------------------\n",
      "| \u001b[0m 1       \u001b[0m | \u001b[0m-1.103   \u001b[0m | \u001b[0m 0.4859  \u001b[0m | \u001b[0m 0.008813\u001b[0m | \u001b[0m-0.02    \u001b[0m |\n",
      "| \u001b[95m 2       \u001b[0m | \u001b[95m-1.091   \u001b[0m | \u001b[95m 0.4733  \u001b[0m | \u001b[95m-0.01413 \u001b[0m | \u001b[95m-0.01631 \u001b[0m |\n",
      "| \u001b[95m 3       \u001b[0m | \u001b[95m-1.019   \u001b[0m | \u001b[95m 0.4605  \u001b[0m | \u001b[95m-0.006178\u001b[0m | \u001b[95m-0.004129\u001b[0m |\n",
      "| \u001b[0m 4       \u001b[0m | \u001b[0m-1.676   \u001b[0m | \u001b[0m 0.4993  \u001b[0m | \u001b[0m-0.003232\u001b[0m | \u001b[0m 0.007409\u001b[0m |\n",
      "| \u001b[95m 5       \u001b[0m | \u001b[95m-0.9682  \u001b[0m | \u001b[95m 0.4625  \u001b[0m | \u001b[95m 0.01512 \u001b[0m | \u001b[95m-0.0189  \u001b[0m |\n",
      "| \u001b[0m 6       \u001b[0m | \u001b[0m-1.833   \u001b[0m | \u001b[0m 0.4411  \u001b[0m | \u001b[0m-0.0193  \u001b[0m | \u001b[0m-0.0185  \u001b[0m |\n",
      "| \u001b[0m 7       \u001b[0m | \u001b[0m-1.026   \u001b[0m | \u001b[0m 0.4596  \u001b[0m | \u001b[0m 0.01374 \u001b[0m | \u001b[0m-0.01828 \u001b[0m |\n",
      "| \u001b[0m 8       \u001b[0m | \u001b[0m-1.039   \u001b[0m | \u001b[0m 0.467   \u001b[0m | \u001b[0m 0.02    \u001b[0m | \u001b[0m 0.001791\u001b[0m |\n",
      "| \u001b[95m 9       \u001b[0m | \u001b[95m-0.8938  \u001b[0m | \u001b[95m 0.465   \u001b[0m | \u001b[95m-0.01378 \u001b[0m | \u001b[95m 0.01789 \u001b[0m |\n",
      "| \u001b[0m 10      \u001b[0m | \u001b[0m-1.403   \u001b[0m | \u001b[0m 0.4492  \u001b[0m | \u001b[0m 0.003321\u001b[0m | \u001b[0m 0.02    \u001b[0m |\n",
      "| \u001b[0m 11      \u001b[0m | \u001b[0m-1.014   \u001b[0m | \u001b[0m 0.4917  \u001b[0m | \u001b[0m-0.00306 \u001b[0m | \u001b[0m-0.001123\u001b[0m |\n",
      "| \u001b[95m 12      \u001b[0m | \u001b[95m-0.8644  \u001b[0m | \u001b[95m 0.4645  \u001b[0m | \u001b[95m-0.01169 \u001b[0m | \u001b[95m 0.009041\u001b[0m |\n",
      "| \u001b[0m 13      \u001b[0m | \u001b[0m-1.833   \u001b[0m | \u001b[0m 0.4938  \u001b[0m | \u001b[0m 0.01365 \u001b[0m | \u001b[0m 0.01916 \u001b[0m |\n",
      "| \u001b[0m 14      \u001b[0m | \u001b[0m-0.8978  \u001b[0m | \u001b[0m 0.4755  \u001b[0m | \u001b[0m 0.01054 \u001b[0m | \u001b[0m 0.01428 \u001b[0m |\n",
      "| \u001b[0m 15      \u001b[0m | \u001b[0m-4.497   \u001b[0m | \u001b[0m 0.534   \u001b[0m | \u001b[0m 0.008774\u001b[0m | \u001b[0m 0.01648 \u001b[0m |\n",
      "| \u001b[95m 16      \u001b[0m | \u001b[95m-0.83    \u001b[0m | \u001b[95m 0.4816  \u001b[0m | \u001b[95m-0.02    \u001b[0m | \u001b[95m 0.008987\u001b[0m |\n",
      "| \u001b[95m 17      \u001b[0m | \u001b[95m-0.5771  \u001b[0m | \u001b[95m 0.4764  \u001b[0m | \u001b[95m-0.001029\u001b[0m | \u001b[95m 0.001465\u001b[0m |\n",
      "| \u001b[0m 18      \u001b[0m | \u001b[0m-1.04    \u001b[0m | \u001b[0m 0.4921  \u001b[0m | \u001b[0m-0.003721\u001b[0m | \u001b[0m-0.000508\u001b[0m |\n",
      "| \u001b[0m 19      \u001b[0m | \u001b[0m-0.6425  \u001b[0m | \u001b[0m 0.4768  \u001b[0m | \u001b[0m-0.005796\u001b[0m | \u001b[0m 0.01083 \u001b[0m |\n",
      "| \u001b[0m 20      \u001b[0m | \u001b[0m-0.588   \u001b[0m | \u001b[0m 0.476   \u001b[0m | \u001b[0m 0.005226\u001b[0m | \u001b[0m-0.004878\u001b[0m |\n",
      "| \u001b[0m 21      \u001b[0m | \u001b[0m-0.6055  \u001b[0m | \u001b[0m 0.4773  \u001b[0m | \u001b[0m-0.001462\u001b[0m | \u001b[0m-0.005505\u001b[0m |\n",
      "| \u001b[0m 22      \u001b[0m | \u001b[0m-0.5821  \u001b[0m | \u001b[0m 0.4791  \u001b[0m | \u001b[0m 0.001958\u001b[0m | \u001b[0m 0.000529\u001b[0m |\n",
      "| \u001b[0m 23      \u001b[0m | \u001b[0m-0.5872  \u001b[0m | \u001b[0m 0.4749  \u001b[0m | \u001b[0m 0.003022\u001b[0m | \u001b[0m-9.242e-0\u001b[0m |\n",
      "| \u001b[95m 24      \u001b[0m | \u001b[95m-0.5763  \u001b[0m | \u001b[95m 0.4775  \u001b[0m | \u001b[95m 0.001408\u001b[0m | \u001b[95m-0.002175\u001b[0m |\n",
      "| \u001b[0m 25      \u001b[0m | \u001b[0m-0.5921  \u001b[0m | \u001b[0m 0.4779  \u001b[0m | \u001b[0m-0.00663 \u001b[0m | \u001b[0m 0.00217 \u001b[0m |\n",
      "| \u001b[0m 26      \u001b[0m | \u001b[0m-0.582   \u001b[0m | \u001b[0m 0.4788  \u001b[0m | \u001b[0m-0.00226 \u001b[0m | \u001b[0m 0.002072\u001b[0m |\n",
      "| \u001b[0m 27      \u001b[0m | \u001b[0m-0.8978  \u001b[0m | \u001b[0m 0.4653  \u001b[0m | \u001b[0m-0.01741 \u001b[0m | \u001b[0m 0.008154\u001b[0m |\n",
      "| \u001b[0m 28      \u001b[0m | \u001b[0m-0.583   \u001b[0m | \u001b[0m 0.4777  \u001b[0m | \u001b[0m 0.005564\u001b[0m | \u001b[0m-0.001913\u001b[0m |\n",
      "| \u001b[95m 29      \u001b[0m | \u001b[95m-0.5759  \u001b[0m | \u001b[95m 0.4775  \u001b[0m | \u001b[95m-0.001139\u001b[0m | \u001b[95m-0.000346\u001b[0m |\n",
      "| \u001b[0m 30      \u001b[0m | \u001b[0m-4.184   \u001b[0m | \u001b[0m 0.5323  \u001b[0m | \u001b[0m-0.00326 \u001b[0m | \u001b[0m-0.008156\u001b[0m |\n",
      "| \u001b[95m 31      \u001b[0m | \u001b[95m-0.5749  \u001b[0m | \u001b[95m 0.4775  \u001b[0m | \u001b[95m 0.000240\u001b[0m | \u001b[95m-0.000810\u001b[0m |\n",
      "| \u001b[0m 32      \u001b[0m | \u001b[0m-0.5764  \u001b[0m | \u001b[0m 0.4765  \u001b[0m | \u001b[0m 0.00244 \u001b[0m | \u001b[0m-0.000805\u001b[0m |\n",
      "| \u001b[0m 33      \u001b[0m | \u001b[0m-0.5779  \u001b[0m | \u001b[0m 0.4778  \u001b[0m | \u001b[0m 0.003567\u001b[0m | \u001b[0m-0.002192\u001b[0m |\n",
      "| \u001b[0m 34      \u001b[0m | \u001b[0m-0.5752  \u001b[0m | \u001b[0m 0.4777  \u001b[0m | \u001b[0m 0.00148 \u001b[0m | \u001b[0m-0.000433\u001b[0m |\n",
      "| \u001b[0m 35      \u001b[0m | \u001b[0m-0.5797  \u001b[0m | \u001b[0m 0.4771  \u001b[0m | \u001b[0m 0.001678\u001b[0m | \u001b[0m 0.001877\u001b[0m |\n",
      "| \u001b[0m 36      \u001b[0m | \u001b[0m-0.575   \u001b[0m | \u001b[0m 0.4774  \u001b[0m | \u001b[0m-0.000498\u001b[0m | \u001b[0m 0.000499\u001b[0m |\n",
      "| \u001b[0m 37      \u001b[0m | \u001b[0m-1.388   \u001b[0m | \u001b[0m 0.4514  \u001b[0m | \u001b[0m-0.01771 \u001b[0m | \u001b[0m-0.005214\u001b[0m |\n",
      "| \u001b[0m 38      \u001b[0m | \u001b[0m-0.6063  \u001b[0m | \u001b[0m 0.477   \u001b[0m | \u001b[0m-0.001194\u001b[0m | \u001b[0m-0.00575 \u001b[0m |\n",
      "| \u001b[0m 39      \u001b[0m | \u001b[0m-0.5755  \u001b[0m | \u001b[0m 0.4779  \u001b[0m | \u001b[0m-8.852e-0\u001b[0m | \u001b[0m 0.00019 \u001b[0m |\n",
      "| \u001b[0m 40      \u001b[0m | \u001b[0m-0.5756  \u001b[0m | \u001b[0m 0.4771  \u001b[0m | \u001b[0m 0.002528\u001b[0m | \u001b[0m-0.001163\u001b[0m |\n",
      "| \u001b[0m 41      \u001b[0m | \u001b[0m-0.5765  \u001b[0m | \u001b[0m 0.4768  \u001b[0m | \u001b[0m-0.001707\u001b[0m | \u001b[0m 0.000947\u001b[0m |\n",
      "| \u001b[0m 42      \u001b[0m | \u001b[0m-0.5756  \u001b[0m | \u001b[0m 0.477   \u001b[0m | \u001b[0m-0.000469\u001b[0m | \u001b[0m-0.000827\u001b[0m |\n",
      "| \u001b[0m 43      \u001b[0m | \u001b[0m-0.5753  \u001b[0m | \u001b[0m 0.4767  \u001b[0m | \u001b[0m 0.000899\u001b[0m | \u001b[0m-0.001209\u001b[0m |\n",
      "| \u001b[0m 44      \u001b[0m | \u001b[0m-0.5807  \u001b[0m | \u001b[0m 0.477   \u001b[0m | \u001b[0m-0.003423\u001b[0m | \u001b[0m 0.002571\u001b[0m |\n",
      "| \u001b[0m 45      \u001b[0m | \u001b[0m-0.8108  \u001b[0m | \u001b[0m 0.468   \u001b[0m | \u001b[0m 0.01382 \u001b[0m | \u001b[0m-0.01477 \u001b[0m |\n",
      "=============================================================\n"
     ]
    }
   ],
   "source": [
    "# bounds on input params \n",
    "pbounds = {'varx': (0.44, 0.55),\n",
    "           'vary': (-0.02, 0.02),\n",
    "           'varz': (-0.02, 0.02)\n",
    "          }\n",
    "\n",
    "optimizer = BayesianOptimization(\n",
    "    f = evaluate,\n",
    "    pbounds = pbounds,\n",
    "    random_state = 1,\n",
    ")\n",
    "\n",
    "optimizer.maximize(\n",
    "    init_points=5,\n",
    "    n_iter=40,\n",
    ")"
   ]
  },
  {
   "cell_type": "markdown",
   "id": "0fefaf55",
   "metadata": {},
   "source": [
    "## Results from simple BO"
   ]
  },
  {
   "cell_type": "code",
   "execution_count": 6,
   "id": "1574eea8",
   "metadata": {},
   "outputs": [
    {
     "name": "stdout",
     "output_type": "stream",
     "text": [
      "optimum (pv_units)  0.4783371750558134 -0.02 0.02\n",
      "optimum geom emit  0.8672671914100647\n"
     ]
    }
   ],
   "source": [
    "SOL_opt = optimizer.max['params']['varx'] # solenoid val at optimum\n",
    "CQ_opt = optimizer.max['params']['vary'] # CQ val at optimum\n",
    "SQ_opt = optimizer.max['params']['varz'] # SQ val at optimum\n",
    "\n",
    "opt_emit = -1*optimizer.max['target'] # emittance value at optimum (in um)\n",
    "\n",
    "print('optimum (pv_units) ',SOL_opt, CQ_opt, SQ_opt)\n",
    "print('optimum geom emit ', opt_emit)"
   ]
  }
 ],
 "metadata": {
  "kernelspec": {
   "display_name": "Python 3",
   "language": "python",
   "name": "python3"
  },
  "language_info": {
   "codemirror_mode": {
    "name": "ipython",
    "version": 3
   },
   "file_extension": ".py",
   "mimetype": "text/x-python",
   "name": "python",
   "nbconvert_exporter": "python",
   "pygments_lexer": "ipython3",
   "version": "3.7.10"
  }
 },
 "nbformat": 4,
 "nbformat_minor": 5
}
