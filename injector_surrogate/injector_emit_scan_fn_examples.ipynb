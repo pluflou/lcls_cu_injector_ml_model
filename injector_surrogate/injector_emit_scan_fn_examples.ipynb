{
 "cells": [
  {
   "cell_type": "code",
   "execution_count": 1,
   "id": "68246fa7",
   "metadata": {},
   "outputs": [],
   "source": [
    "import sys\n",
    "import sklearn\n",
    "\n",
    "#NN Surrogate model class\n",
    "from injector_surrogate_quads import *\n",
    "\n",
    "from emittance_calc import getNormEmit\n",
    "from sampling_functions import getGroundTruth, getBeamsize\n",
    "\n",
    "sys.path.append('../configs')\n",
    "#Sim reference point to optimize around\n",
    "from ref_config import ref_point"
   ]
  },
  {
   "cell_type": "markdown",
   "id": "5f4446ff",
   "metadata": {},
   "source": [
    "# Load injector model"
   ]
  },
  {
   "cell_type": "code",
   "execution_count": 2,
   "id": "8ffd05e1",
   "metadata": {},
   "outputs": [],
   "source": [
    "Model = Surrogate_NN()\n",
    "\n",
    "Model.load_saved_model(model_path = '../models/', \\\n",
    "                       model_name = 'model_OTR2_NA_rms_emit_elu_2021-07-19T09_46_52-07_00')\n",
    "Model.load_scaling()\n",
    "Model.take_log_out = False"
   ]
  },
  {
   "cell_type": "markdown",
   "id": "20ac845c",
   "metadata": {},
   "source": [
    "# Sampling functions examples"
   ]
  },
  {
   "cell_type": "markdown",
   "id": "878ea3be",
   "metadata": {},
   "source": [
    "1- beam size request (from surrogate) [input =  setting, quad (n=1), output = beamsize] ----> uncouple from fn below \\\n",
    "2- emittance calc request [input = quad (n>=3), beamsize (n), output  = emittance] ----> fn from module\\\n",
    "3- ground truth request [input = setting, output = emittance] -----> already exists, need wrapper fn "
   ]
  },
  {
   "cell_type": "markdown",
   "id": "c9b4616d",
   "metadata": {},
   "source": [
    "### Beam size request example (machine units)\n",
    "(these can be in sim units or machine units and can be converted back and forth. The functions here are coded in machine units.)"
   ]
  },
  {
   "cell_type": "code",
   "execution_count": 3,
   "id": "c6456820",
   "metadata": {},
   "outputs": [
    {
     "data": {
      "text/plain": [
       "array([0.00027778, 0.00046747], dtype=float32)"
      ]
     },
     "execution_count": 3,
     "metadata": {},
     "output_type": "execute_result"
    }
   ],
   "source": [
    "'''Returns the beamsize (xrms, yrms) prediction [m] from the surrogate model\n",
    "for given settings of SOL1, SQ01, CQ01 and scanning quad measurement setting QE04 '''\n",
    "\n",
    "getBeamsize(Model, ref_point,  0.4625, 0.01512 , -0.0189, -3 )"
   ]
  },
  {
   "cell_type": "markdown",
   "id": "c971b23b",
   "metadata": {},
   "source": [
    "### Emittance calculation request"
   ]
  },
  {
   "cell_type": "code",
   "execution_count": 4,
   "id": "18430d11",
   "metadata": {},
   "outputs": [
    {
     "data": {
      "text/plain": [
       "4.899162310429274e-07"
      ]
     },
     "execution_count": 4,
     "metadata": {},
     "output_type": "execute_result"
    }
   ],
   "source": [
    "# Random example given an energy, quad gradients, and beamsizes\n",
    "energy = 0.135 \n",
    "quad_grad = np.array([-5.517900,  -4.519675, -3.521450, -2.523225, -1.525000])\n",
    "x_rms = np.array([142.252185, 102.829644, 79.477429, 50.142066,  55.691068])*1e-6\n",
    "y_rms = np.array([102.315915, 57.603621, 42.734515, 69.352124, 108.715472])*1e-6\n",
    "\n",
    "'''Returns normalized emittance [m] given quad values and beamsizes'''\n",
    "getNormEmit(energy, quad_grad, x_rms, y_rms) "
   ]
  },
  {
   "cell_type": "markdown",
   "id": "08086e56",
   "metadata": {},
   "source": [
    "NOTE: if getNormEmit() can't calculate the emittance, typically because the fit is bad (not second degree poly), it assigns a value of 1000 to the emittance (high value for the optimizer). "
   ]
  },
  {
   "cell_type": "markdown",
   "id": "45ebec4b",
   "metadata": {},
   "source": [
    "### Ground truth request example (machine units)"
   ]
  },
  {
   "cell_type": "code",
   "execution_count": 9,
   "id": "354bf756",
   "metadata": {},
   "outputs": [
    {
     "data": {
      "text/plain": [
       "array([9.679087e-07], dtype=float32)"
      ]
     },
     "execution_count": 9,
     "metadata": {},
     "output_type": "execute_result"
    }
   ],
   "source": [
    "'''Returns normalized emittance prediction [m] from the surrogate model\n",
    "for given settings of SOL1, SQ01, and CQ01 '''\n",
    "\n",
    "getGroundTruth(Model, ref_point, 0.4625, 0.01512 , -0.0189 )"
   ]
  },
  {
   "cell_type": "code",
   "execution_count": null,
   "id": "1d83fb89",
   "metadata": {},
   "outputs": [],
   "source": []
  }
 ],
 "metadata": {
  "kernelspec": {
   "display_name": "Python 3",
   "language": "python",
   "name": "python3"
  },
  "language_info": {
   "codemirror_mode": {
    "name": "ipython",
    "version": 3
   },
   "file_extension": ".py",
   "mimetype": "text/x-python",
   "name": "python",
   "nbconvert_exporter": "python",
   "pygments_lexer": "ipython3",
   "version": "3.7.10"
  }
 },
 "nbformat": 4,
 "nbformat_minor": 5
}
